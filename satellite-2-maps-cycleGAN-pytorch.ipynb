{
  "nbformat": 4,
  "nbformat_minor": 0,
  "metadata": {
    "colab": {
      "name": "satellite-2-maps-cycleGAN-pytorch.ipynb",
      "provenance": [],
      "authorship_tag": "ABX9TyNiIO2FICYsFUiQzw0IQMC7",
      "include_colab_link": true
    },
    "kernelspec": {
      "name": "python3",
      "display_name": "Python 3"
    },
    "language_info": {
      "name": "python"
    }
  },
  "cells": [
    {
      "cell_type": "markdown",
      "metadata": {
        "id": "view-in-github",
        "colab_type": "text"
      },
      "source": [
        "<a href=\"https://colab.research.google.com/github/fudw/satellite-imagery-to-maps/blob/main/satellite-2-maps-cycleGAN-pytorch.ipynb\" target=\"_parent\"><img src=\"https://colab.research.google.com/assets/colab-badge.svg\" alt=\"Open In Colab\"/></a>"
      ]
    },
    {
      "cell_type": "markdown",
      "metadata": {
        "id": "uUXNHu6beAe6"
      },
      "source": [
        "# Satellite2Maps\n",
        "### Automated creation of maps from satellite imagery and aerial sensor data with CycleGAN\n",
        "<br/>\n",
        "\n",
        "In this project, I develop a data pipeline that takes in satellite images and outputs maps using a CycleGAN model based on [*Unpaired Image-to-Image Translation using Cycle-Consistent Adversarial Networks*](https://arxiv.org/abs/1703.10593) by Zhu et al. (2017). \n",
        "\n",
        "The model will learn to convert satellite images to maps and vice versa, by training on public datasets in the two domains."
      ]
    },
    {
      "cell_type": "code",
      "metadata": {
        "id": "lCp1u63ed474"
      },
      "source": [
        "from google.colab import output\n",
        "\n",
        "# download and unzip data\n",
        "!gdown --id 1GSNhusWi-GXn4bOkymluer1Un7_YDBc9\n",
        "!mkdir data\n",
        "!unzip satellite-2-map-dataset-kaggle.zip -d data\n",
        "output.clear()\n",
        "print('Data downloaded!')"
      ],
      "execution_count": null,
      "outputs": []
    },
    {
      "cell_type": "code",
      "metadata": {
        "id": "N01W4M6X6SOA"
      },
      "source": [
        "!pip install wandb\n",
        "\n",
        "# import libraries\n",
        "import os\n",
        "import numpy as np\n",
        "import torch\n",
        "from torch import nn\n",
        "import torchvision\n",
        "from torchvision import transforms\n",
        "from torchvision.utils import make_grid\n",
        "from torch.utils.data import DataLoader\n",
        "import matplotlib.pyplot as plt\n",
        "from PIL import Image\n",
        "from tqdm.auto import tqdm\n",
        "import seaborn as sns\n",
        "import wandb\n",
        "\n",
        "torch.manual_seed(9)\n",
        "\n",
        "output.clear()\n",
        "print('Setup complete. Using torch %s %s' % (torch.__version__, torch.cuda.get_device_properties(0) if torch.cuda.is_available() else 'CPU'))"
      ],
      "execution_count": null,
      "outputs": []
    },
    {
      "cell_type": "code",
      "metadata": {
        "id": "kHOS1WUm6X8p"
      },
      "source": [
        "wandb.login()"
      ],
      "execution_count": null,
      "outputs": []
    },
    {
      "cell_type": "markdown",
      "metadata": {
        "id": "5XYmg8Np9IJ1"
      },
      "source": [
        "## II. Build CycleGAN Model"
      ]
    },
    {
      "cell_type": "code",
      "metadata": {
        "id": "K_Be7Ysu9Mit"
      },
      "source": [
        "class ResidualBlock(nn.Module):\n",
        "    '''\n",
        "    ResidualBlock class.\n",
        "    '''\n",
        "    def __init__(self, input_channels):\n",
        "        super().__init__()\n",
        "        self.conv1 = nn.Conv2d(input_channels, input_channels, kernel_size=3, padding=1, padding_mode='reflect')\n",
        "        self.conv2 = nn.Conv2d(input_channels, input_channels, kernel_size=3, padding=1, padding_mode='reflect')\n",
        "        self.instancenorm = nn.InstanceNorm2d(input_channels)\n",
        "        self.activation = nn.ReLU()\n",
        "\n",
        "    def forward(self, x):\n",
        "        \n"
      ],
      "execution_count": null,
      "outputs": []
    }
  ]
}