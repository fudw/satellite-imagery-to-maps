{
  "nbformat": 4,
  "nbformat_minor": 0,
  "metadata": {
    "colab": {
      "name": "satellite-2-maps-cycleGAN-pytorch.ipynb",
      "provenance": [],
      "authorship_tag": "ABX9TyO5PrpCFRJ8Wda5WylWCwNu",
      "include_colab_link": true
    },
    "kernelspec": {
      "name": "python3",
      "display_name": "Python 3"
    },
    "language_info": {
      "name": "python"
    }
  },
  "cells": [
    {
      "cell_type": "markdown",
      "metadata": {
        "id": "view-in-github",
        "colab_type": "text"
      },
      "source": [
        "<a href=\"https://colab.research.google.com/github/fudw/satellite-imagery-to-maps/blob/main/satellite-2-maps-cycleGAN-pytorch.ipynb\" target=\"_parent\"><img src=\"https://colab.research.google.com/assets/colab-badge.svg\" alt=\"Open In Colab\"/></a>"
      ]
    },
    {
      "cell_type": "markdown",
      "metadata": {
        "id": "uUXNHu6beAe6"
      },
      "source": [
        "# Satellite2Maps\n",
        "### Automated creation of maps from satellite imagery and aerial sensor data with CycleGAN\n",
        "<br/>\n",
        "\n",
        "In this project, I develop a data pipeline that takes in satellite images and outputs maps using a CycleGAN model based on [*Unpaired Image-to-Image Translation using Cycle-Consistent Adversarial Networks*](https://arxiv.org/abs/1703.10593) by Zhu et al. (2017). \n",
        "\n",
        "The model will learn to convert satellite images to maps and vice versa, by training on public datasets in the two domains."
      ]
    },
    {
      "cell_type": "code",
      "metadata": {
        "id": "lCp1u63ed474"
      },
      "source": [
        "from google.colab import output\n",
        "\n",
        "# download and unzip data\n",
        "!gdown --id 1GSNhusWi-GXn4bOkymluer1Un7_YDBc9\n",
        "!mkdir data\n",
        "!unzip satellite-2-map-dataset-kaggle.zip -d data\n",
        "output.clear()\n",
        "print('Data downloaded!')"
      ],
      "execution_count": null,
      "outputs": []
    },
    {
      "cell_type": "code",
      "metadata": {
        "id": "N01W4M6X6SOA"
      },
      "source": [
        "!pip install wandb\n",
        "\n",
        "# import libraries\n",
        "import os\n",
        "import numpy as np\n",
        "import torch\n",
        "from torch import nn\n",
        "import torchvision\n",
        "from torchvision import transforms\n",
        "from torchvision.utils import make_grid\n",
        "from torch.utils.data import DataLoader\n",
        "import matplotlib.pyplot as plt\n",
        "from PIL import Image\n",
        "from tqdm.auto import tqdm\n",
        "import seaborn as sns\n",
        "import wandb\n",
        "\n",
        "torch.manual_seed(9)\n",
        "\n",
        "output.clear()\n",
        "print('Setup complete. Using torch %s %s' % (torch.__version__, torch.cuda.get_device_properties(0) if torch.cuda.is_available() else 'CPU'))"
      ],
      "execution_count": null,
      "outputs": []
    },
    {
      "cell_type": "code",
      "metadata": {
        "id": "kHOS1WUm6X8p"
      },
      "source": [
        "wandb.login()"
      ],
      "execution_count": null,
      "outputs": []
    },
    {
      "cell_type": "markdown",
      "metadata": {
        "id": "5XYmg8Np9IJ1"
      },
      "source": [
        "## II. Build CycleGAN Model"
      ]
    },
    {
      "cell_type": "code",
      "metadata": {
        "id": "K_Be7Ysu9Mit"
      },
      "source": [
        "class ResidualBlock(nn.Module):\n",
        "    '''\n",
        "    ResidualBlock class.\n",
        "    '''\n",
        "    def __init__(self, input_channels):\n",
        "        super().__init__()\n",
        "        self.conv1 = nn.Conv2d(input_channels, input_channels, kernel_size=3, padding=1, padding_mode='reflect')\n",
        "        self.conv2 = nn.Conv2d(input_channels, input_channels, kernel_size=3, padding=1, padding_mode='reflect')\n",
        "        self.instancenorm = nn.InstanceNorm2d(input_channels)\n",
        "        self.activation = nn.ReLU()\n",
        "\n",
        "    def forward(self, x):\n",
        "        original_x = x.clone()\n",
        "        x = self.conv1(x)\n",
        "        x = self.instancenorm(x)\n",
        "        x = self.activation(x)\n",
        "        x = self.conv2(x)\n",
        "        x = self.instancenorm(x)\n",
        "        return original_x + x"
      ],
      "execution_count": null,
      "outputs": []
    },
    {
      "cell_type": "code",
      "metadata": {
        "id": "mYET-J9UGj1n"
      },
      "source": [
        "class ContractingBlock(nn.Module):\n",
        "    '''\n",
        "    ContractingBlock class.\n",
        "    '''\n",
        "    def __init__(self, input_channels, use_in=True, kernel_size=3, activation='relu'):\n",
        "        super().__init__()\n",
        "        self.conv1 = nn.Conv2d(input_channels, input_channels * 2, kernel_size=kernel_size, padding=1, stride=2, padding_mode='reflect')\n",
        "        self.activation = nn.ReLU()\n",
        "        if use_in:\n",
        "            self.instancenorm = nn.InstanceNorm2d(input_channels * 2)\n",
        "        self.use_in = use_in\n",
        "\n",
        "    def forward(self, x):\n",
        "        x = self.conv1(x)\n",
        "        if self.use_in:\n",
        "            x = self.instancenorm(x)\n",
        "        x = self.activation(x)\n",
        "        return x"
      ],
      "execution_count": null,
      "outputs": []
    },
    {
      "cell_type": "code",
      "metadata": {
        "id": "J2AFu3ZZHn2P"
      },
      "source": [
        "class ExpandingBlock(nn.Module):\n",
        "    '''\n",
        "    ExpandingBlock class.\n",
        "    '''\n",
        "    def __init__(self, input_channels, use_in=True):\n",
        "        super().__init__()\n",
        "        self.conv1 = nn.ConvTranspose2d(input_channels, input_channels // 2, kernel_size=3, padding=1, stride=2, output_padding=1)\n",
        "        if use_in:\n",
        "            self.instancenorm = nn.InstanceNorm2d(input_channels // 2)\n",
        "        self.use_in = use_in\n",
        "        self.activation = nn.ReLU()\n",
        "\n",
        "    def forward(self, x):\n",
        "        x = self.conv1(x)\n",
        "        if self.use_in:\n",
        "            x = self.instancenorm(x)\n",
        "        x = self.activation(x)\n",
        "        return x"
      ],
      "execution_count": null,
      "outputs": []
    },
    {
      "cell_type": "code",
      "metadata": {
        "id": "49GooBsAJ20I"
      },
      "source": [
        "class FeatureMapBlock(nn.Module):\n",
        "    '''\n",
        "    FeatureMapBlock class.\n",
        "    '''\n",
        "    def __init__(self, input_channels, output_channels):\n",
        "        super().__init__()\n",
        "        self.conv = nn.Conv2d(input_channels, output_channels, kernel_size=7, padding=3, padding_mode='reflect')\n",
        "    \n",
        "    def forward(self, x):\n",
        "        x = self.conv(x)\n",
        "        return x"
      ],
      "execution_count": null,
      "outputs": []
    },
    {
      "cell_type": "code",
      "metadata": {
        "id": "jOcsdH1cMan1"
      },
      "source": [
        "class Generator(nn.Module):\n",
        "    '''\n",
        "    Generator class.\n",
        "    '''\n",
        "    def __init__(self, input_channels, output_channels, hidden_channels=64):\n",
        "        super().__init__()\n",
        "        self.upfeature = FeatureMapBlock(input_channels, hidden_channels)\n",
        "        self.contract1 = ContractingBlock(hidden_channels)\n",
        "        self.contract2 = ContractingBlock(hidden_channels * 2)\n",
        "        res_mult = 4\n",
        "        self.res1 = ResidualBlock(hidden_channels * res_mult)\n",
        "        self.res2 = ResidualBlock(hidden_channels * res_mult)\n",
        "        self.res3 = ResidualBlock(hidden_channels * res_mult)\n",
        "        self.res4 = ResidualBlock(hidden_channels * res_mult)\n",
        "        self.res5 = ResidualBlock(hidden_channels * res_mult)\n",
        "        self.res6 = ResidualBlock(hidden_channels * res_mult)\n",
        "        self.res7 = ResidualBlock(hidden_channels * res_mult)\n",
        "        self.res8 = ResidualBlock(hidden_channels * res_mult)\n",
        "        self.res9 = ResidualBlock(hidden_channels * res_mult)\n",
        "        self.expand1 = ExpandingBlock(hidden_channels * res_mult)\n",
        "        self.expand2 = ExpandingBlock(hidden_channels * res_mult // 2)\n",
        "        self.downfeature = FeatureMapBlock(hidden_channels * res_mult // 4, output_channels)\n",
        "        self.tanh = nn.Tanh()\n",
        "\n",
        "    def forward(self, x):\n",
        "        x = self.upfeature(x)\n",
        "        x = self.contract1(x)\n",
        "        x = self.contract2(x)\n",
        "        x = self.res1(x)\n",
        "        x = self.res2(x)\n",
        "        x = self.res3(x)\n",
        "        x = self.res4(x)\n",
        "        x = self.res5(x)\n",
        "        x = self.res6(x)\n",
        "        x = self.res7(x)\n",
        "        x = self.res8(x)\n",
        "        x = self.res9(x)\n",
        "        x = self.expand1(x)\n",
        "        x = self.expand2(x)\n",
        "        x = self.downfeature(x)\n",
        "        x = self.tanh(x)\n",
        "        return x"
      ],
      "execution_count": null,
      "outputs": []
    },
    {
      "cell_type": "code",
      "metadata": {
        "id": "ltRSKfpbQICG"
      },
      "source": [
        "class Discriminator(nn.Module):\n",
        "    '''\n",
        "    Discriminator class.\n",
        "    '''\n",
        "    def __init__(self, input_channels, hidden_channels=64):\n",
        "        super().__init__()\n",
        "        self.upfeature = FeatureMapBlock(input_channels, hidden_channels)\n",
        "        self.contract1 = ContractingBlock(hidden_channels, use_in=False, kernel_size=4, activation='lrelu')\n",
        "        self.contract2 = ContractingBlock(hidden_channels * 2, kernel_size=4, activation='lrelu')\n",
        "        self.contract3 = ContractingBlock(hidden_channels * 4, kernel_size=4, activation='lrelu')\n",
        "        self.final = nn.Conv2d(hidden_channels * 8, 1, kernel_size=1)\n",
        "\n",
        "    def forward(self, x):\n",
        "        x = self.upfeature(x)\n",
        "        x = self.contract1(x)\n",
        "        x = self.contract2(x)\n",
        "        x = self.contract3(x)\n",
        "        x = self.final(x)\n",
        "        return x"
      ],
      "execution_count": null,
      "outputs": []
    },
    {
      "cell_type": "code",
      "metadata": {
        "id": "YjBv64LuUSqB"
      },
      "source": [
        "adv_criterion = nn.MSELoss()\n",
        "recon_criterion = nn.L1Loss()\n",
        "\n",
        "n_epochs = 100\n",
        "dim_A = 3\n",
        "dim_B = 3\n",
        "display_step = 200\n",
        "batch_size = 1\n",
        "load_shape = 300\n",
        "target_shape = 256\n",
        "device = 'cuda'"
      ],
      "execution_count": null,
      "outputs": []
    },
    {
      "cell_type": "code",
      "metadata": {
        "id": "PhijVJ4yWZRl"
      },
      "source": [
        "transform = transforms.Compose([transforms.Resize(load_shape),\n",
        "                                transforms.RandomCrop(target_shape),\n",
        "                                transforms.RandomHorizontalFlip(),\n",
        "                                transforms.ToTensor(),\n",
        "                                ])\n",
        "\n",
        "dataset = ImageDataset('maps', transform=transform)\n",
        "dataloader = DataLoader(dataset, batch_size=batch_size, shuffle=True)"
      ],
      "execution_count": null,
      "outputs": []
    },
    {
      "cell_type": "code",
      "metadata": {
        "id": "5G7GSnG3Xcwf"
      },
      "source": [
        "gen_AB = Generator(dim_A, dim_B).to(device)\n",
        "gen_BA = Generator(dim_B, dim_A).to(device)\n",
        "gen_opt = torch.optim.Adam(list(gen_AB.parameters()) + list(gen_BA.parameters()), lr=lr, betas=(0.5, 0.999))\n",
        "disc_A = Discriminator(dim_A).to(device)\n",
        "disc_A_opt = torch.optim.Adam(list(disc_A.parameters()), lr=lr, betas=(0.5, 0.999))\n",
        "disc_B = Discriminator(dim_B).to(device)\n",
        "disc_B_opt = torch.optim.Adam(list(disc_B.parameters()), lr=lr, betas=(0.5, 0.999))"
      ],
      "execution_count": null,
      "outputs": []
    },
    {
      "cell_type": "code",
      "metadata": {
        "id": "4f8PPnvWZED3"
      },
      "source": [
        "def get_disc_loss(real_X, fake_X, disc_X, adv_criterion):\n",
        "    real_Y = disc_X(real_X)\n",
        "    real_loss = adv_criterion(real_Y, torch.ones_like(real_Y))\n",
        "    fake_Y = disc_X(fake_X.detach())\n",
        "    fake_loss = adv_criterion(fake_Y, torch.zeros_like(fake_Y))\n",
        "    disc_loss = (real_loss + fake_loss) / 2\n",
        "    return disc_loss"
      ],
      "execution_count": null,
      "outputs": []
    },
    {
      "cell_type": "code",
      "metadata": {
        "id": "QI5bv1qkbKtx"
      },
      "source": [
        "def get_gen_adversarial_loss(real_X, disc_Y, gen_XY, adv_criterion):\n",
        "    fake_Y = gen_XY(real_X)\n",
        "    pred = disc_Y(fake_Y)\n",
        "    adversarial_loss = adv_criterion(pred, torch.ones_like(pred))\n",
        "    return adversarial_loss, fake_Y"
      ],
      "execution_count": null,
      "outputs": []
    },
    {
      "cell_type": "code",
      "metadata": {
        "id": "aPY6dxEtbm09"
      },
      "source": [
        "def get_identity_loss(real_X, gen_YX, identity_criterion):\n",
        "    identity_X = gen_YX(real_X)\n",
        "    identity_loss = identity_criterion(identity_X, real_X)\n",
        "    return identity_loss, identity_X"
      ],
      "execution_count": null,
      "outputs": []
    },
    {
      "cell_type": "code",
      "metadata": {
        "id": "DziX_TACb8HS"
      },
      "source": [
        "def get_cycle_consistency_loss(real_X, fake_Y, gen_YX, cycle_criterion):\n",
        "    cycle_X = gen_YX(fake_Y)\n",
        "    cycle_loss = cycle_criterion(real_X, cycle_X)\n",
        "    return cycle_loss, cycle_X"
      ],
      "execution_count": null,
      "outputs": []
    },
    {
      "cell_type": "code",
      "metadata": {
        "id": "OT8vap1pcqF_"
      },
      "source": [
        "def get_gen_loss(real_A, real_B, gen_AB, gen_BA, disc_A, disc_B, adv_criterion, identity_criterion, cycle_criterion, lambda_identity=0.1, lambda_cycle=10):\n",
        "    adv_loss_AB, fake_B = get_adversarial_loss(real_A, disc_B, gen_AB, adv_criterion)\n",
        "    adv_loss_BA, fake_A = get_adversarial_loss(real_B, disc_A, gen_BA, adv_criterion)\n",
        "    identity_loss_AA, identity_A = get_identity_loss(real_A, gen_BA, identity_criterion)\n",
        "    identity_loss_BB, identity_B = get_identity_loss(real_B, gen_AB, identity_criterion)\n",
        "    cycle_loss_AA, cycle_A = get_cycle_consistency_loss(real_A, fake_B, gen_BA, cycle_criterion)\n",
        "    cycle_loss_BB, cycle_B = get_cycle_consistency_loss(real_B, fake_A, gen_AB, cycle_criterion)\n",
        "    total_adv_loss = adv_loss_AB + adv_loss_BA\n",
        "    total_identity_loss = identity_loss_AA + identity_loss_BB\n",
        "    total_cycle_loss = cycle_loss_AA + cycle_loss_BB\n",
        "    gen_loss = total_adv_loss + lambda_identity * total_identity_loss + lambda_cycle * total_cycle_loss\n",
        "    return gen_loss, fake_A, fake_B"
      ],
      "execution_count": null,
      "outputs": []
    },
    {
      "cell_type": "code",
      "metadata": {
        "id": "IJbsb4-DeZ4D"
      },
      "source": [
        "def train(save_model=False):\n",
        "    mean_gen_loss = 0\n",
        "    mean_disc_loss = 0\n",
        "    current_step = 0\n",
        "\n",
        "    for epoch in range(n_epochs):\n",
        "\n",
        "        for real_A, real_B in tqdm(dataloader):\n",
        "\n",
        "            real_A = nn.functional.interpolate(real_A, size=target_shape)\n",
        "            real_B = nn.functional.interpolate(real_B, size=target_shape)\n",
        "            current_batch_size = len(real_A)\n",
        "            real_A = real_A.to(device)\n",
        "            real_B = real_B.to(device)\n",
        "\n",
        "            disc_A_opt.zero_grad()\n",
        "            with torch.no_grad():\n",
        "                fake_A = gen_BA(real_B)\n",
        "            disc_A_loss = get_disc_loss(real_A, fake_A, disc_A, adv_criterion)\n",
        "            disc_A_loss.backward(retain_graph=True)\n",
        "            disc_A_opt.step()\n",
        "\n",
        "            disc_B_opt.zero_grad()\n",
        "            with torch.no_grad():\n",
        "                fake_B = gen_AB(real_A)\n",
        "            disc_B_loss = gen_disc_loss(real_B, fake_B, disc_B, adv_criterion)\n",
        "            disc_B_loss.backward(retian_graph=True)\n",
        "            disc_B_opt.step()"
      ],
      "execution_count": null,
      "outputs": []
    }
  ]
}