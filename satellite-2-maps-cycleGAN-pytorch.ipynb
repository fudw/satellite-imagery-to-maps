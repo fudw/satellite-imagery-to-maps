{
  "nbformat": 4,
  "nbformat_minor": 0,
  "metadata": {
    "colab": {
      "name": "satellite-2-maps-cycleGAN-pytorch.ipynb",
      "provenance": [],
      "authorship_tag": "ABX9TyPT+tFP79UDXWtIXMFb6FMs",
      "include_colab_link": true
    },
    "kernelspec": {
      "name": "python3",
      "display_name": "Python 3"
    },
    "language_info": {
      "name": "python"
    },
    "widgets": {
      "application/vnd.jupyter.widget-state+json": {
        "36517a71beb3401bb975c9499dd29841": {
          "model_module": "@jupyter-widgets/controls",
          "model_name": "HBoxModel",
          "model_module_version": "1.5.0",
          "state": {
            "_view_name": "HBoxView",
            "_dom_classes": [],
            "_model_name": "HBoxModel",
            "_view_module": "@jupyter-widgets/controls",
            "_model_module_version": "1.5.0",
            "_view_count": null,
            "_view_module_version": "1.5.0",
            "box_style": "",
            "layout": "IPY_MODEL_c57f13d0d6414d47add53c82b6a0f524",
            "_model_module": "@jupyter-widgets/controls",
            "children": [
              "IPY_MODEL_97d762a85bd4469486c5b8f471786d8e",
              "IPY_MODEL_61a1bc37f6cf4f5fbd88f2498915379e",
              "IPY_MODEL_a733b0a051d84852b3ddb683e2fc54b5"
            ]
          }
        },
        "c57f13d0d6414d47add53c82b6a0f524": {
          "model_module": "@jupyter-widgets/base",
          "model_name": "LayoutModel",
          "model_module_version": "1.2.0",
          "state": {
            "_view_name": "LayoutView",
            "grid_template_rows": null,
            "right": null,
            "justify_content": null,
            "_view_module": "@jupyter-widgets/base",
            "overflow": null,
            "_model_module_version": "1.2.0",
            "_view_count": null,
            "flex_flow": null,
            "width": null,
            "min_width": null,
            "border": null,
            "align_items": null,
            "bottom": null,
            "_model_module": "@jupyter-widgets/base",
            "top": null,
            "grid_column": null,
            "overflow_y": null,
            "overflow_x": null,
            "grid_auto_flow": null,
            "grid_area": null,
            "grid_template_columns": null,
            "flex": null,
            "_model_name": "LayoutModel",
            "justify_items": null,
            "grid_row": null,
            "max_height": null,
            "align_content": null,
            "visibility": null,
            "align_self": null,
            "height": null,
            "min_height": null,
            "padding": null,
            "grid_auto_rows": null,
            "grid_gap": null,
            "max_width": null,
            "order": null,
            "_view_module_version": "1.2.0",
            "grid_template_areas": null,
            "object_position": null,
            "object_fit": null,
            "grid_auto_columns": null,
            "margin": null,
            "display": null,
            "left": null
          }
        },
        "97d762a85bd4469486c5b8f471786d8e": {
          "model_module": "@jupyter-widgets/controls",
          "model_name": "HTMLModel",
          "model_module_version": "1.5.0",
          "state": {
            "_view_name": "HTMLView",
            "style": "IPY_MODEL_c28b387899024ced882deee9444e30c7",
            "_dom_classes": [],
            "description": "",
            "_model_name": "HTMLModel",
            "placeholder": "​",
            "_view_module": "@jupyter-widgets/controls",
            "_model_module_version": "1.5.0",
            "value": "  0%",
            "_view_count": null,
            "_view_module_version": "1.5.0",
            "description_tooltip": null,
            "_model_module": "@jupyter-widgets/controls",
            "layout": "IPY_MODEL_95aaf15f3d0747f7a34ea692f9e1c76f"
          }
        },
        "61a1bc37f6cf4f5fbd88f2498915379e": {
          "model_module": "@jupyter-widgets/controls",
          "model_name": "FloatProgressModel",
          "model_module_version": "1.5.0",
          "state": {
            "_view_name": "ProgressView",
            "style": "IPY_MODEL_7329abfd712e4a548882ac3bb54ad92f",
            "_dom_classes": [],
            "description": "",
            "_model_name": "FloatProgressModel",
            "bar_style": "danger",
            "max": 2194,
            "_view_module": "@jupyter-widgets/controls",
            "_model_module_version": "1.5.0",
            "value": 1,
            "_view_count": null,
            "_view_module_version": "1.5.0",
            "orientation": "horizontal",
            "min": 0,
            "description_tooltip": null,
            "_model_module": "@jupyter-widgets/controls",
            "layout": "IPY_MODEL_107df36f60cc491d9b320e55bd41bc0b"
          }
        },
        "a733b0a051d84852b3ddb683e2fc54b5": {
          "model_module": "@jupyter-widgets/controls",
          "model_name": "HTMLModel",
          "model_module_version": "1.5.0",
          "state": {
            "_view_name": "HTMLView",
            "style": "IPY_MODEL_7dcfafd6bb874059b79abf08072e1b2d",
            "_dom_classes": [],
            "description": "",
            "_model_name": "HTMLModel",
            "placeholder": "​",
            "_view_module": "@jupyter-widgets/controls",
            "_model_module_version": "1.5.0",
            "value": " 1/2194 [01:38&lt;30:00:20, 49.26s/it]",
            "_view_count": null,
            "_view_module_version": "1.5.0",
            "description_tooltip": null,
            "_model_module": "@jupyter-widgets/controls",
            "layout": "IPY_MODEL_b5015ec5fd4c407cb5584fde4c031e7a"
          }
        },
        "c28b387899024ced882deee9444e30c7": {
          "model_module": "@jupyter-widgets/controls",
          "model_name": "DescriptionStyleModel",
          "model_module_version": "1.5.0",
          "state": {
            "_view_name": "StyleView",
            "_model_name": "DescriptionStyleModel",
            "description_width": "",
            "_view_module": "@jupyter-widgets/base",
            "_model_module_version": "1.5.0",
            "_view_count": null,
            "_view_module_version": "1.2.0",
            "_model_module": "@jupyter-widgets/controls"
          }
        },
        "95aaf15f3d0747f7a34ea692f9e1c76f": {
          "model_module": "@jupyter-widgets/base",
          "model_name": "LayoutModel",
          "model_module_version": "1.2.0",
          "state": {
            "_view_name": "LayoutView",
            "grid_template_rows": null,
            "right": null,
            "justify_content": null,
            "_view_module": "@jupyter-widgets/base",
            "overflow": null,
            "_model_module_version": "1.2.0",
            "_view_count": null,
            "flex_flow": null,
            "width": null,
            "min_width": null,
            "border": null,
            "align_items": null,
            "bottom": null,
            "_model_module": "@jupyter-widgets/base",
            "top": null,
            "grid_column": null,
            "overflow_y": null,
            "overflow_x": null,
            "grid_auto_flow": null,
            "grid_area": null,
            "grid_template_columns": null,
            "flex": null,
            "_model_name": "LayoutModel",
            "justify_items": null,
            "grid_row": null,
            "max_height": null,
            "align_content": null,
            "visibility": null,
            "align_self": null,
            "height": null,
            "min_height": null,
            "padding": null,
            "grid_auto_rows": null,
            "grid_gap": null,
            "max_width": null,
            "order": null,
            "_view_module_version": "1.2.0",
            "grid_template_areas": null,
            "object_position": null,
            "object_fit": null,
            "grid_auto_columns": null,
            "margin": null,
            "display": null,
            "left": null
          }
        },
        "7329abfd712e4a548882ac3bb54ad92f": {
          "model_module": "@jupyter-widgets/controls",
          "model_name": "ProgressStyleModel",
          "model_module_version": "1.5.0",
          "state": {
            "_view_name": "StyleView",
            "_model_name": "ProgressStyleModel",
            "description_width": "",
            "_view_module": "@jupyter-widgets/base",
            "_model_module_version": "1.5.0",
            "_view_count": null,
            "_view_module_version": "1.2.0",
            "bar_color": null,
            "_model_module": "@jupyter-widgets/controls"
          }
        },
        "107df36f60cc491d9b320e55bd41bc0b": {
          "model_module": "@jupyter-widgets/base",
          "model_name": "LayoutModel",
          "model_module_version": "1.2.0",
          "state": {
            "_view_name": "LayoutView",
            "grid_template_rows": null,
            "right": null,
            "justify_content": null,
            "_view_module": "@jupyter-widgets/base",
            "overflow": null,
            "_model_module_version": "1.2.0",
            "_view_count": null,
            "flex_flow": null,
            "width": null,
            "min_width": null,
            "border": null,
            "align_items": null,
            "bottom": null,
            "_model_module": "@jupyter-widgets/base",
            "top": null,
            "grid_column": null,
            "overflow_y": null,
            "overflow_x": null,
            "grid_auto_flow": null,
            "grid_area": null,
            "grid_template_columns": null,
            "flex": null,
            "_model_name": "LayoutModel",
            "justify_items": null,
            "grid_row": null,
            "max_height": null,
            "align_content": null,
            "visibility": null,
            "align_self": null,
            "height": null,
            "min_height": null,
            "padding": null,
            "grid_auto_rows": null,
            "grid_gap": null,
            "max_width": null,
            "order": null,
            "_view_module_version": "1.2.0",
            "grid_template_areas": null,
            "object_position": null,
            "object_fit": null,
            "grid_auto_columns": null,
            "margin": null,
            "display": null,
            "left": null
          }
        },
        "7dcfafd6bb874059b79abf08072e1b2d": {
          "model_module": "@jupyter-widgets/controls",
          "model_name": "DescriptionStyleModel",
          "model_module_version": "1.5.0",
          "state": {
            "_view_name": "StyleView",
            "_model_name": "DescriptionStyleModel",
            "description_width": "",
            "_view_module": "@jupyter-widgets/base",
            "_model_module_version": "1.5.0",
            "_view_count": null,
            "_view_module_version": "1.2.0",
            "_model_module": "@jupyter-widgets/controls"
          }
        },
        "b5015ec5fd4c407cb5584fde4c031e7a": {
          "model_module": "@jupyter-widgets/base",
          "model_name": "LayoutModel",
          "model_module_version": "1.2.0",
          "state": {
            "_view_name": "LayoutView",
            "grid_template_rows": null,
            "right": null,
            "justify_content": null,
            "_view_module": "@jupyter-widgets/base",
            "overflow": null,
            "_model_module_version": "1.2.0",
            "_view_count": null,
            "flex_flow": null,
            "width": null,
            "min_width": null,
            "border": null,
            "align_items": null,
            "bottom": null,
            "_model_module": "@jupyter-widgets/base",
            "top": null,
            "grid_column": null,
            "overflow_y": null,
            "overflow_x": null,
            "grid_auto_flow": null,
            "grid_area": null,
            "grid_template_columns": null,
            "flex": null,
            "_model_name": "LayoutModel",
            "justify_items": null,
            "grid_row": null,
            "max_height": null,
            "align_content": null,
            "visibility": null,
            "align_self": null,
            "height": null,
            "min_height": null,
            "padding": null,
            "grid_auto_rows": null,
            "grid_gap": null,
            "max_width": null,
            "order": null,
            "_view_module_version": "1.2.0",
            "grid_template_areas": null,
            "object_position": null,
            "object_fit": null,
            "grid_auto_columns": null,
            "margin": null,
            "display": null,
            "left": null
          }
        }
      }
    }
  },
  "cells": [
    {
      "cell_type": "markdown",
      "metadata": {
        "id": "view-in-github",
        "colab_type": "text"
      },
      "source": [
        "<a href=\"https://colab.research.google.com/github/fudw/satellite-imagery-to-maps/blob/main/satellite-2-maps-cycleGAN-pytorch.ipynb\" target=\"_parent\"><img src=\"https://colab.research.google.com/assets/colab-badge.svg\" alt=\"Open In Colab\"/></a>"
      ]
    },
    {
      "cell_type": "markdown",
      "metadata": {
        "id": "uUXNHu6beAe6"
      },
      "source": [
        "# Satellite2Maps\n",
        "### Automated creation of maps from satellite imagery and aerial sensor data with CycleGAN\n",
        "<br/>\n",
        "\n",
        "In this project, I develop a data pipeline that takes in satellite images and outputs maps using a CycleGAN model based on [*Unpaired Image-to-Image Translation using Cycle-Consistent Adversarial Networks*](https://arxiv.org/abs/1703.10593) by Zhu et al. (2017). \n",
        "\n",
        "The model will learn to convert satellite images to maps and vice versa, by training on public datasets in the two domains."
      ]
    },
    {
      "cell_type": "code",
      "metadata": {
        "id": "lCp1u63ed474",
        "colab": {
          "base_uri": "https://localhost:8080/"
        },
        "outputId": "66c50e3c-80fd-4af5-f21a-424c06ce46fa"
      },
      "source": [
        "from google.colab import output\n",
        "\n",
        "# download and unzip data\n",
        "!gdown --id 1GSNhusWi-GXn4bOkymluer1Un7_YDBc9\n",
        "!mkdir data\n",
        "!unzip satellite-2-map-dataset-kaggle.zip -d data\n",
        "output.clear()\n",
        "print('Data downloaded!')"
      ],
      "execution_count": 1,
      "outputs": [
        {
          "output_type": "stream",
          "name": "stdout",
          "text": [
            "Data downloaded!\n"
          ]
        }
      ]
    },
    {
      "cell_type": "code",
      "metadata": {
        "id": "N01W4M6X6SOA",
        "colab": {
          "base_uri": "https://localhost:8080/"
        },
        "outputId": "325909ec-0b7b-4fac-a7fa-634bac7785c1"
      },
      "source": [
        "#!pip install wandb\n",
        "\n",
        "# import libraries\n",
        "import os\n",
        "import numpy as np\n",
        "import torch\n",
        "from torch import nn\n",
        "import torchvision\n",
        "from torchvision import transforms\n",
        "from torchvision.utils import make_grid\n",
        "from torch.utils.data import DataLoader\n",
        "import matplotlib.pyplot as plt\n",
        "from PIL import Image\n",
        "from tqdm.auto import tqdm\n",
        "import seaborn as sns\n",
        "#import wandb\n",
        "\n",
        "torch.manual_seed(9)\n",
        "\n",
        "output.clear()\n",
        "print('Setup complete. Using torch %s %s' % (torch.__version__, torch.cuda.get_device_properties(0) if torch.cuda.is_available() else 'CPU'))"
      ],
      "execution_count": 2,
      "outputs": [
        {
          "output_type": "stream",
          "name": "stdout",
          "text": [
            "Setup complete. Using torch 1.9.0+cu102 CPU\n"
          ]
        }
      ]
    },
    {
      "cell_type": "code",
      "metadata": {
        "id": "kHOS1WUm6X8p"
      },
      "source": [
        "wandb.login()"
      ],
      "execution_count": null,
      "outputs": []
    },
    {
      "cell_type": "markdown",
      "metadata": {
        "id": "5XYmg8Np9IJ1"
      },
      "source": [
        "## II. Build CycleGAN Model"
      ]
    },
    {
      "cell_type": "code",
      "metadata": {
        "id": "K_Be7Ysu9Mit"
      },
      "source": [
        "class ResidualBlock(nn.Module):\n",
        "    '''\n",
        "    ResidualBlock class.\n",
        "    '''\n",
        "    def __init__(self, input_channels):\n",
        "        super().__init__()\n",
        "        self.conv1 = nn.Conv2d(input_channels, input_channels, kernel_size=3, padding=1, padding_mode='reflect')\n",
        "        self.conv2 = nn.Conv2d(input_channels, input_channels, kernel_size=3, padding=1, padding_mode='reflect')\n",
        "        self.instancenorm = nn.InstanceNorm2d(input_channels)\n",
        "        self.activation = nn.ReLU()\n",
        "\n",
        "    def forward(self, x):\n",
        "        original_x = x.clone()\n",
        "        x = self.conv1(x)\n",
        "        x = self.instancenorm(x)\n",
        "        x = self.activation(x)\n",
        "        x = self.conv2(x)\n",
        "        x = self.instancenorm(x)\n",
        "        return original_x + x"
      ],
      "execution_count": 3,
      "outputs": []
    },
    {
      "cell_type": "code",
      "metadata": {
        "id": "mYET-J9UGj1n"
      },
      "source": [
        "class ContractingBlock(nn.Module):\n",
        "    '''\n",
        "    ContractingBlock class.\n",
        "    '''\n",
        "    def __init__(self, input_channels, use_in=True, kernel_size=3, activation='relu'):\n",
        "        super().__init__()\n",
        "        self.conv1 = nn.Conv2d(input_channels, input_channels * 2, kernel_size=kernel_size, padding=1, stride=2, padding_mode='reflect')\n",
        "        self.activation = nn.ReLU()\n",
        "        if use_in:\n",
        "            self.instancenorm = nn.InstanceNorm2d(input_channels * 2)\n",
        "        self.use_in = use_in\n",
        "\n",
        "    def forward(self, x):\n",
        "        x = self.conv1(x)\n",
        "        if self.use_in:\n",
        "            x = self.instancenorm(x)\n",
        "        x = self.activation(x)\n",
        "        return x"
      ],
      "execution_count": 4,
      "outputs": []
    },
    {
      "cell_type": "code",
      "metadata": {
        "id": "J2AFu3ZZHn2P"
      },
      "source": [
        "class ExpandingBlock(nn.Module):\n",
        "    '''\n",
        "    ExpandingBlock class.\n",
        "    '''\n",
        "    def __init__(self, input_channels, use_in=True):\n",
        "        super().__init__()\n",
        "        self.conv1 = nn.ConvTranspose2d(input_channels, input_channels // 2, kernel_size=3, padding=1, stride=2, output_padding=1)\n",
        "        if use_in:\n",
        "            self.instancenorm = nn.InstanceNorm2d(input_channels // 2)\n",
        "        self.use_in = use_in\n",
        "        self.activation = nn.ReLU()\n",
        "\n",
        "    def forward(self, x):\n",
        "        x = self.conv1(x)\n",
        "        if self.use_in:\n",
        "            x = self.instancenorm(x)\n",
        "        x = self.activation(x)\n",
        "        return x"
      ],
      "execution_count": 5,
      "outputs": []
    },
    {
      "cell_type": "code",
      "metadata": {
        "id": "49GooBsAJ20I"
      },
      "source": [
        "class FeatureMapBlock(nn.Module):\n",
        "    '''\n",
        "    FeatureMapBlock class.\n",
        "    '''\n",
        "    def __init__(self, input_channels, output_channels):\n",
        "        super().__init__()\n",
        "        self.conv = nn.Conv2d(input_channels, output_channels, kernel_size=7, padding=3, padding_mode='reflect')\n",
        "    \n",
        "    def forward(self, x):\n",
        "        x = self.conv(x)\n",
        "        return x"
      ],
      "execution_count": 6,
      "outputs": []
    },
    {
      "cell_type": "code",
      "metadata": {
        "id": "jOcsdH1cMan1"
      },
      "source": [
        "class Generator(nn.Module):\n",
        "    '''\n",
        "    Generator class.\n",
        "    '''\n",
        "    def __init__(self, input_channels, output_channels, hidden_channels=64):\n",
        "        super().__init__()\n",
        "        self.upfeature = FeatureMapBlock(input_channels, hidden_channels)\n",
        "        self.contract1 = ContractingBlock(hidden_channels)\n",
        "        self.contract2 = ContractingBlock(hidden_channels * 2)\n",
        "        res_mult = 4\n",
        "        self.res1 = ResidualBlock(hidden_channels * res_mult)\n",
        "        self.res2 = ResidualBlock(hidden_channels * res_mult)\n",
        "        self.res3 = ResidualBlock(hidden_channels * res_mult)\n",
        "        self.res4 = ResidualBlock(hidden_channels * res_mult)\n",
        "        self.res5 = ResidualBlock(hidden_channels * res_mult)\n",
        "        self.res6 = ResidualBlock(hidden_channels * res_mult)\n",
        "        self.res7 = ResidualBlock(hidden_channels * res_mult)\n",
        "        self.res8 = ResidualBlock(hidden_channels * res_mult)\n",
        "        self.res9 = ResidualBlock(hidden_channels * res_mult)\n",
        "        self.expand1 = ExpandingBlock(hidden_channels * res_mult)\n",
        "        self.expand2 = ExpandingBlock(hidden_channels * res_mult // 2)\n",
        "        self.downfeature = FeatureMapBlock(hidden_channels * res_mult // 4, output_channels)\n",
        "        self.tanh = nn.Tanh()\n",
        "\n",
        "    def forward(self, x):\n",
        "        x = self.upfeature(x)\n",
        "        x = self.contract1(x)\n",
        "        x = self.contract2(x)\n",
        "        x = self.res1(x)\n",
        "        x = self.res2(x)\n",
        "        x = self.res3(x)\n",
        "        x = self.res4(x)\n",
        "        x = self.res5(x)\n",
        "        x = self.res6(x)\n",
        "        x = self.res7(x)\n",
        "        x = self.res8(x)\n",
        "        x = self.res9(x)\n",
        "        x = self.expand1(x)\n",
        "        x = self.expand2(x)\n",
        "        x = self.downfeature(x)\n",
        "        x = self.tanh(x)\n",
        "        return x"
      ],
      "execution_count": 7,
      "outputs": []
    },
    {
      "cell_type": "code",
      "metadata": {
        "id": "ltRSKfpbQICG"
      },
      "source": [
        "class Discriminator(nn.Module):\n",
        "    '''\n",
        "    Discriminator class.\n",
        "    '''\n",
        "    def __init__(self, input_channels, hidden_channels=64):\n",
        "        super().__init__()\n",
        "        self.upfeature = FeatureMapBlock(input_channels, hidden_channels)\n",
        "        self.contract1 = ContractingBlock(hidden_channels, use_in=False, kernel_size=4, activation='lrelu')\n",
        "        self.contract2 = ContractingBlock(hidden_channels * 2, kernel_size=4, activation='lrelu')\n",
        "        self.contract3 = ContractingBlock(hidden_channels * 4, kernel_size=4, activation='lrelu')\n",
        "        self.final = nn.Conv2d(hidden_channels * 8, 1, kernel_size=1)\n",
        "\n",
        "    def forward(self, x):\n",
        "        x = self.upfeature(x)\n",
        "        x = self.contract1(x)\n",
        "        x = self.contract2(x)\n",
        "        x = self.contract3(x)\n",
        "        x = self.final(x)\n",
        "        return x"
      ],
      "execution_count": 8,
      "outputs": []
    },
    {
      "cell_type": "markdown",
      "metadata": {
        "id": "2FMwClmosKW9"
      },
      "source": [
        "## III. Setup for Training"
      ]
    },
    {
      "cell_type": "code",
      "metadata": {
        "id": "YjBv64LuUSqB"
      },
      "source": [
        "adv_criterion = nn.MSELoss()\n",
        "recon_criterion = nn.L1Loss()\n",
        "\n",
        "n_epochs = 2\n",
        "dim_A = 3\n",
        "dim_B = 3\n",
        "display_step = 200\n",
        "batch_size = 1\n",
        "gen_lr = 0.0002\n",
        "disc_lr = 0.001\n",
        "load_shape = 300\n",
        "target_shape = 256\n",
        "device = 'cpu'"
      ],
      "execution_count": 47,
      "outputs": []
    },
    {
      "cell_type": "code",
      "metadata": {
        "id": "PhijVJ4yWZRl"
      },
      "source": [
        "transform = transforms.Compose([\n",
        "                                transforms.ToTensor(),\n",
        "                                transforms.Resize((load_shape, load_shape * 2))\n",
        "                                ])\n",
        "\n",
        "dataset = torchvision.datasets.ImageFolder('data', transform=transform)\n",
        "dataloader = DataLoader(dataset, batch_size=batch_size, shuffle=True)"
      ],
      "execution_count": 48,
      "outputs": []
    },
    {
      "cell_type": "code",
      "metadata": {
        "id": "SPBr4MpqvBJn"
      },
      "source": [
        "def init_weights_random(model):\n",
        "    if isinstance(model, nn.Conv2d) or isinstance(model, nn.ConvTranspose2d):\n",
        "        nn.init.normal_(model.weight, 0., 0.2)\n",
        "    #if isinstance(model, nn.InstanceNorm2d):\n",
        "     #   nn.init.normal_(model.weight, 0., 0.2)\n",
        "      #  nn.init.constant_(model.bias, 0)\n",
        "\n",
        "def init_weights(gen_AB, gen_BA, disc_A, disc_B, checkpoint=None):\n",
        "    if checkpoint is not None:\n",
        "        loaded_state = torch.load(checkpoint)\n",
        "        gen_AB.load_state_dict(loaded_state['gen_AB'])\n",
        "        gen_BA.load_state_dict(loaded_state['gen_BA'])\n",
        "        disc_A.load_state_dict(loaded_state['disc_A'])\n",
        "        disc_B.load_state_dict(loaded_state['disc_B'])\n",
        "    else:\n",
        "        gen_AB.apply(init_weights_random)\n",
        "        gen_BA.apply(init_weights_random)\n",
        "        disc_A.apply(init_weights_random)\n",
        "        disc_B.apply(init_weights_random)\n",
        "    return gen_AB, gen_BA, disc_A, disc_B"
      ],
      "execution_count": 20,
      "outputs": []
    },
    {
      "cell_type": "code",
      "metadata": {
        "id": "5G7GSnG3Xcwf"
      },
      "source": [
        "gen_AB = Generator(dim_A, dim_B).to(device)\n",
        "gen_BA = Generator(dim_B, dim_A).to(device)\n",
        "gen_opt = torch.optim.Adam(list(gen_AB.parameters()) + list(gen_BA.parameters()), lr=gen_lr, betas=(0.5, 0.999))\n",
        "# gen_scheduler = torch.optim.lr_scheduler.OneCycleLR(gen_opt,\n",
        "#                                                     max_lr=gen_lr,\n",
        "#                                                     steps_per_epoch=len(dataloader),\n",
        "#                                                     epochs=n_epochs,\n",
        "#                                                     pct_start=0.1)\n",
        "disc_A = Discriminator(dim_A).to(device)\n",
        "disc_A_opt = torch.optim.Adam(list(disc_A.parameters()), lr=disc_lr, betas=(0.5, 0.999))\n",
        "disc_B = Discriminator(dim_B).to(device)\n",
        "disc_B_opt = torch.optim.Adam(list(disc_B.parameters()), lr=disc_lr, betas=(0.5, 0.999))\n",
        "#disc_A_scheduler = torch.optim.lr_scheduler"
      ],
      "execution_count": 18,
      "outputs": []
    },
    {
      "cell_type": "code",
      "metadata": {
        "id": "82hZvrqCyRY8"
      },
      "source": [
        "gen_AB, gen_BA, disc_A, disc_B = init_weights(gen_AB, gen_BA, disc_A, disc_B)"
      ],
      "execution_count": 21,
      "outputs": []
    },
    {
      "cell_type": "code",
      "metadata": {
        "id": "4f8PPnvWZED3"
      },
      "source": [
        "def get_disc_loss(real_X, fake_X, disc_X, adv_criterion):\n",
        "    real_Y = disc_X(real_X)\n",
        "    real_loss = adv_criterion(real_Y, torch.ones_like(real_Y))\n",
        "    fake_Y = disc_X(fake_X.detach())\n",
        "    fake_loss = adv_criterion(fake_Y, torch.zeros_like(fake_Y))\n",
        "    disc_loss = (real_loss + fake_loss) / 2\n",
        "    return disc_loss"
      ],
      "execution_count": 22,
      "outputs": []
    },
    {
      "cell_type": "code",
      "metadata": {
        "id": "QI5bv1qkbKtx"
      },
      "source": [
        "def get_gen_adversarial_loss(real_X, disc_Y, gen_XY, adv_criterion):\n",
        "    fake_Y = gen_XY(real_X)\n",
        "    pred = disc_Y(fake_Y)\n",
        "    adversarial_loss = adv_criterion(pred, torch.ones_like(pred))\n",
        "    return adversarial_loss, fake_Y"
      ],
      "execution_count": 23,
      "outputs": []
    },
    {
      "cell_type": "code",
      "metadata": {
        "id": "aPY6dxEtbm09"
      },
      "source": [
        "def get_identity_loss(real_X, gen_YX, identity_criterion):\n",
        "    identity_X = gen_YX(real_X)\n",
        "    identity_loss = identity_criterion(identity_X, real_X)\n",
        "    return identity_loss, identity_X"
      ],
      "execution_count": 24,
      "outputs": []
    },
    {
      "cell_type": "code",
      "metadata": {
        "id": "DziX_TACb8HS"
      },
      "source": [
        "def get_cycle_consistency_loss(real_X, fake_Y, gen_YX, cycle_criterion):\n",
        "    cycle_X = gen_YX(fake_Y)\n",
        "    cycle_loss = cycle_criterion(real_X, cycle_X)\n",
        "    return cycle_loss, cycle_X"
      ],
      "execution_count": 25,
      "outputs": []
    },
    {
      "cell_type": "code",
      "metadata": {
        "id": "OT8vap1pcqF_"
      },
      "source": [
        "def get_gen_loss(real_A, real_B, gen_AB, gen_BA, disc_A, disc_B, adv_criterion, identity_criterion, cycle_criterion, lambda_identity=0.1, lambda_cycle=10):\n",
        "    adv_loss_AB, fake_B = get_gen_adversarial_loss(real_A, disc_B, gen_AB, adv_criterion)\n",
        "    adv_loss_BA, fake_A = get_gen_adversarial_loss(real_B, disc_A, gen_BA, adv_criterion)\n",
        "    identity_loss_AA, identity_A = get_identity_loss(real_A, gen_BA, identity_criterion)\n",
        "    identity_loss_BB, identity_B = get_identity_loss(real_B, gen_AB, identity_criterion)\n",
        "    cycle_loss_AA, cycle_A = get_cycle_consistency_loss(real_A, fake_B, gen_BA, cycle_criterion)\n",
        "    cycle_loss_BB, cycle_B = get_cycle_consistency_loss(real_B, fake_A, gen_AB, cycle_criterion)\n",
        "    total_adv_loss = adv_loss_AB + adv_loss_BA\n",
        "    total_identity_loss = identity_loss_AA + identity_loss_BB\n",
        "    total_cycle_loss = cycle_loss_AA + cycle_loss_BB\n",
        "    gen_loss = total_adv_loss + lambda_identity * total_identity_loss + lambda_cycle * total_cycle_loss\n",
        "    return gen_loss, fake_A, fake_B"
      ],
      "execution_count": 41,
      "outputs": []
    },
    {
      "cell_type": "code",
      "metadata": {
        "id": "-_Av7cNPlXjY"
      },
      "source": [
        "def plot_losses(losses):\n",
        "    gen_loss = losses['gen']\n",
        "    disc_A_loss = losses['disc_A']\n",
        "    disc_B_loss = losses['disc_B']\n",
        "    steps = losses['steps']\n",
        "\n",
        "    fig, axes = plt.subplots(1, 3, figsize=(10, 5))\n",
        "    sns.lineplot(ax=axes[0], x=steps, y=gen_loss)\n",
        "    axes[0].set_title('Generator loss')\n",
        "    axes[0].set_xlabel('Steps')\n",
        "    sns.lineplot(ax=axes[1], x=teps, y=disc_A_loss)\n",
        "    axes[1].set_title('Discriminator A loss')\n",
        "    axes[1].set_xlabel('Steps')\n",
        "    sns.lineplot(ax=axes[2], x=steps, y=disc_B_loss)\n",
        "    axes[2].set_title('Discriminator B loss')\n",
        "    axes[2].set_xlabel('Steps')\n",
        "    plt.show()"
      ],
      "execution_count": 27,
      "outputs": []
    },
    {
      "cell_type": "code",
      "metadata": {
        "id": "95ZQuziMoOkW"
      },
      "source": [
        "def show_image(image_tensor, num_images=3, size=(3, 256, 256)):\n",
        "    image_copy = image_tensor\n",
        "    image_unflat = image_copy.detach().cpu().view(-1, *size)\n",
        "    image_unnormalized = (image_unflat + 1) / 2\n",
        "    image_grid = make_grid(image_unnormalized[:num_images], nrow=5)\n",
        "    plt.imshow(image_grid.permute(1, 2, 0).squeeze())\n",
        "    plt.axis('off')\n",
        "    plt.show()"
      ],
      "execution_count": 28,
      "outputs": []
    },
    {
      "cell_type": "code",
      "metadata": {
        "id": "XJ6fuYcq14cH"
      },
      "source": [
        "def create_grid(image_list, num_images=3, shape=(3, 256, 256)):\n",
        "    processed_images = []\n",
        "    for img in image_list:\n",
        "        img_copy = img\n",
        "        img_unflat = img_copy.detach().cpu().view(-1, *shape)\n",
        "        img_unnormalized = (img_unflat + 1) / 2\n",
        "        processed_images.append(img_unnormalized)\n",
        "    image_grid = [make_grid([processed_images[i][j] for i in range(len(image_list))], nrow=5) for j in range(num_images)]\n",
        "    grid = torch.cat(image_grid, dim=1)\n",
        "    return grid.permute(1, 2, 0).squeeze()"
      ],
      "execution_count": 56,
      "outputs": []
    },
    {
      "cell_type": "code",
      "metadata": {
        "id": "IJbsb4-DeZ4D"
      },
      "source": [
        "def train(save_model=False):\n",
        "    mean_gen_loss = 0\n",
        "    mean_disc_A_loss = 0\n",
        "    mean_disc_B_loss = 0\n",
        "    current_step = 0\n",
        "    losses = {'steps': [],\n",
        "              'gen': [],\n",
        "              'disc_A': [],\n",
        "              'disc_B': []}\n",
        "\n",
        "    for epoch in range(n_epochs):\n",
        "\n",
        "        for img, _ in tqdm(dataloader):\n",
        "\n",
        "            img_width = img.shape[3]\n",
        "            img = img * 2 - 1\n",
        "            real_A = img[:, :, :, :img_width // 2]\n",
        "            real_B = img[:, :, :, img_width // 2:]\n",
        "            real_A = transforms.RandomCrop(target_shape)(real_A)\n",
        "            real_B = transforms.RandomCrop(target_shape)(real_B)\n",
        "            real_A = nn.functional.interpolate(real_A, size=target_shape)\n",
        "            real_B = nn.functional.interpolate(real_B, size=target_shape)\n",
        "            current_batch_size = len(real_A)\n",
        "            real_A = real_A.to(device)\n",
        "            real_B = real_B.to(device)\n",
        "\n",
        "            disc_A_opt.zero_grad()\n",
        "            with torch.no_grad():\n",
        "                fake_A = gen_BA(real_B)\n",
        "            disc_A_loss = get_disc_loss(real_A, fake_A, disc_A, adv_criterion)\n",
        "            disc_A_loss.backward(retain_graph=True)\n",
        "            disc_A_opt.step()\n",
        "\n",
        "            disc_B_opt.zero_grad()\n",
        "            with torch.no_grad():\n",
        "                fake_B = gen_AB(real_A)\n",
        "            disc_B_loss = get_disc_loss(real_B, fake_B, disc_B, adv_criterion)\n",
        "            disc_B_loss.backward(retain_graph=True)\n",
        "            disc_B_opt.step()\n",
        "\n",
        "            gen_opt.zero_grad()\n",
        "            gen_loss, fake_A, fake_B = get_gen_loss(\n",
        "                real_A, real_B, gen_AB, gen_BA, disc_A, disc_B, adv_criterion, recon_criterion, recon_criterion\n",
        "            )\n",
        "            gen_loss.backward()\n",
        "            gen_opt.step()\n",
        "\n",
        "            mean_disc_A_loss += disc_A_loss.item() / display_step\n",
        "            mean_disc_B_loss += disc_B_loss.item() / display_step\n",
        "            mean_gen_loss += gen_loss.item() / display_step\n",
        "            \n",
        "            if current_step % display_step == 0:\n",
        "                if current_step > 0:\n",
        "                    print(f'Epoch {epoch} Step {current_step}: Generator loss {mean_gen_loss} Discriminator A loss {mean_disc_A_loss} Discriminator B loss {mean_disc_B_loss}')\n",
        "                    losses['steps'].append(current_step)\n",
        "                    losses['disc_A'].append(mean_disc_A_loss)\n",
        "                    losses['disc_B'].append(mean_disc_B_loss)\n",
        "                    losses['gen'].append(mean_gen_loss)\n",
        "                    plot_losses(losses)\n",
        "                else:\n",
        "                    print('Initial state')\n",
        "                \n",
        "                preview = create_grid([real_A, fake_A, real_B, fake_B], num_images=1)\n",
        "                plt.imshow(preview)\n",
        "                plt.axis('off')\n",
        "                plt.show()\n",
        "\n",
        "                wandb.log({\n",
        "                    'Steps': current_step,\n",
        "                    'Generator loss': mean_gen_loss,\n",
        "                    'Discriminator A loss': mean_disc_A_loss,\n",
        "                    'Discriminator B loss': mean_disc_B_loss,\n",
        "                    'Images': wandb.Image(preview),\n",
        "                    'Generator LR': gen_opt.param_groups[0]['lr'],\n",
        "                    # 'Discriminator A LR': disc_A_opt.param_groups[0]['lr'],\n",
        "                    # 'Dsicriminator B LR': disc_B_opt.param_groups[0]['lr'],\n",
        "                })\n",
        "\n",
        "                mean_disc_A_loss = 0\n",
        "                mean_disc_B_loss = 0\n",
        "                mean_gen_loss = 0\n",
        "\n",
        "            #disc_A_scheduler.step()\n",
        "            #disc_B_scheduler.step()\n",
        "            #gen_scheduler.step()\n",
        "            current_step += 1\n",
        "          \n",
        "        if epoch % 10 == 0 or epoch == n_epochs - 1:\n",
        "            if save_model:\n",
        "                torch.save({\n",
        "                    'gen_AB': gen_AB.state_dict(),\n",
        "                    'gen_BA': gen_BA.state_dict(),\n",
        "                    'disc_A': disc_A.state_dict(),\n",
        "                    'disc_B': disc_B.state_dict(),\n",
        "                }, f'cycleGAN_ep{epoch}.pt')\n",
        "        \n"
      ],
      "execution_count": 54,
      "outputs": []
    },
    {
      "cell_type": "code",
      "metadata": {
        "id": "kPxBnDSu7UWY"
      },
      "source": [
        "wandb.init(project='satellite2maps',\n",
        "           confit={'epochs': n_epochs,\n",
        "                   'batch_size': batch_size,\n",
        "                   })\n",
        "wandb.watch((gen, disc_A, disc_B), log_frequency=500)"
      ],
      "execution_count": null,
      "outputs": []
    },
    {
      "cell_type": "code",
      "metadata": {
        "colab": {
          "base_uri": "https://localhost:8080/",
          "height": 470,
          "referenced_widgets": [
            "36517a71beb3401bb975c9499dd29841",
            "c57f13d0d6414d47add53c82b6a0f524",
            "97d762a85bd4469486c5b8f471786d8e",
            "61a1bc37f6cf4f5fbd88f2498915379e",
            "a733b0a051d84852b3ddb683e2fc54b5",
            "c28b387899024ced882deee9444e30c7",
            "95aaf15f3d0747f7a34ea692f9e1c76f",
            "7329abfd712e4a548882ac3bb54ad92f",
            "107df36f60cc491d9b320e55bd41bc0b",
            "7dcfafd6bb874059b79abf08072e1b2d",
            "b5015ec5fd4c407cb5584fde4c031e7a"
          ]
        },
        "id": "aXEmcfsR1wi_",
        "outputId": "c605fa0d-25c9-4416-9c62-5bda180e71b8"
      },
      "source": [
        "start_time = time.time()\n",
        "train()\n",
        "elapsed = (time.time() - start_time) / 3600\n",
        "print(f'--- {elapsed} hours elapsed ---')"
      ],
      "execution_count": 57,
      "outputs": [
        {
          "output_type": "display_data",
          "data": {
            "application/vnd.jupyter.widget-view+json": {
              "model_id": "36517a71beb3401bb975c9499dd29841",
              "version_minor": 0,
              "version_major": 2
            },
            "text/plain": [
              "  0%|          | 0/2194 [00:00<?, ?it/s]"
            ]
          },
          "metadata": {}
        },
        {
          "output_type": "stream",
          "name": "stdout",
          "text": [
            "Initial state\n"
          ]
        },
        {
          "output_type": "display_data",
          "data": {
            "image/png": "[encoded data removed]",
            "text/plain": [
              "<Figure size 432x288 with 1 Axes>"
            ]
          },
          "metadata": {
            "needs_background": "light"
          }
        },
        {
          "output_type": "error",
          "ename": "KeyboardInterrupt",
          "evalue": "ignored",
          "traceback": [
            "\u001b[0;31m---------------------------------------------------------------------------\u001b[0m",
            "\u001b[0;31mKeyboardInterrupt\u001b[0m                         Traceback (most recent call last)",
            "\u001b[0;32m<ipython-input-57-2da0ffaf5447>\u001b[0m in \u001b[0;36m<module>\u001b[0;34m()\u001b[0m\n\u001b[0;32m----> 1\u001b[0;31m \u001b[0mtrain\u001b[0m\u001b[0;34m(\u001b[0m\u001b[0;34m)\u001b[0m\u001b[0;34m\u001b[0m\u001b[0;34m\u001b[0m\u001b[0m\n\u001b[0m",
            "\u001b[0;32m<ipython-input-54-1b6cfe97a737>\u001b[0m in \u001b[0;36mtrain\u001b[0;34m(save_model)\u001b[0m\n\u001b[1;32m     43\u001b[0m                 \u001b[0mreal_A\u001b[0m\u001b[0;34m,\u001b[0m \u001b[0mreal_B\u001b[0m\u001b[0;34m,\u001b[0m \u001b[0mgen_AB\u001b[0m\u001b[0;34m,\u001b[0m \u001b[0mgen_BA\u001b[0m\u001b[0;34m,\u001b[0m \u001b[0mdisc_A\u001b[0m\u001b[0;34m,\u001b[0m \u001b[0mdisc_B\u001b[0m\u001b[0;34m,\u001b[0m \u001b[0madv_criterion\u001b[0m\u001b[0;34m,\u001b[0m \u001b[0mrecon_criterion\u001b[0m\u001b[0;34m,\u001b[0m \u001b[0mrecon_criterion\u001b[0m\u001b[0;34m\u001b[0m\u001b[0;34m\u001b[0m\u001b[0m\n\u001b[1;32m     44\u001b[0m             )\n\u001b[0;32m---> 45\u001b[0;31m             \u001b[0mgen_loss\u001b[0m\u001b[0;34m.\u001b[0m\u001b[0mbackward\u001b[0m\u001b[0;34m(\u001b[0m\u001b[0;34m)\u001b[0m\u001b[0;34m\u001b[0m\u001b[0;34m\u001b[0m\u001b[0m\n\u001b[0m\u001b[1;32m     46\u001b[0m             \u001b[0mgen_opt\u001b[0m\u001b[0;34m.\u001b[0m\u001b[0mstep\u001b[0m\u001b[0;34m(\u001b[0m\u001b[0;34m)\u001b[0m\u001b[0;34m\u001b[0m\u001b[0;34m\u001b[0m\u001b[0m\n\u001b[1;32m     47\u001b[0m \u001b[0;34m\u001b[0m\u001b[0m\n",
            "\u001b[0;32m/usr/local/lib/python3.7/dist-packages/torch/_tensor.py\u001b[0m in \u001b[0;36mbackward\u001b[0;34m(self, gradient, retain_graph, create_graph, inputs)\u001b[0m\n\u001b[1;32m    253\u001b[0m                 \u001b[0mcreate_graph\u001b[0m\u001b[0;34m=\u001b[0m\u001b[0mcreate_graph\u001b[0m\u001b[0;34m,\u001b[0m\u001b[0;34m\u001b[0m\u001b[0;34m\u001b[0m\u001b[0m\n\u001b[1;32m    254\u001b[0m                 inputs=inputs)\n\u001b[0;32m--> 255\u001b[0;31m         \u001b[0mtorch\u001b[0m\u001b[0;34m.\u001b[0m\u001b[0mautograd\u001b[0m\u001b[0;34m.\u001b[0m\u001b[0mbackward\u001b[0m\u001b[0;34m(\u001b[0m\u001b[0mself\u001b[0m\u001b[0;34m,\u001b[0m \u001b[0mgradient\u001b[0m\u001b[0;34m,\u001b[0m \u001b[0mretain_graph\u001b[0m\u001b[0;34m,\u001b[0m \u001b[0mcreate_graph\u001b[0m\u001b[0;34m,\u001b[0m \u001b[0minputs\u001b[0m\u001b[0;34m=\u001b[0m\u001b[0minputs\u001b[0m\u001b[0;34m)\u001b[0m\u001b[0;34m\u001b[0m\u001b[0;34m\u001b[0m\u001b[0m\n\u001b[0m\u001b[1;32m    256\u001b[0m \u001b[0;34m\u001b[0m\u001b[0m\n\u001b[1;32m    257\u001b[0m     \u001b[0;32mdef\u001b[0m \u001b[0mregister_hook\u001b[0m\u001b[0;34m(\u001b[0m\u001b[0mself\u001b[0m\u001b[0;34m,\u001b[0m \u001b[0mhook\u001b[0m\u001b[0;34m)\u001b[0m\u001b[0;34m:\u001b[0m\u001b[0;34m\u001b[0m\u001b[0;34m\u001b[0m\u001b[0m\n",
            "\u001b[0;32m/usr/local/lib/python3.7/dist-packages/torch/autograd/__init__.py\u001b[0m in \u001b[0;36mbackward\u001b[0;34m(tensors, grad_tensors, retain_graph, create_graph, grad_variables, inputs)\u001b[0m\n\u001b[1;32m    147\u001b[0m     Variable._execution_engine.run_backward(\n\u001b[1;32m    148\u001b[0m         \u001b[0mtensors\u001b[0m\u001b[0;34m,\u001b[0m \u001b[0mgrad_tensors_\u001b[0m\u001b[0;34m,\u001b[0m \u001b[0mretain_graph\u001b[0m\u001b[0;34m,\u001b[0m \u001b[0mcreate_graph\u001b[0m\u001b[0;34m,\u001b[0m \u001b[0minputs\u001b[0m\u001b[0;34m,\u001b[0m\u001b[0;34m\u001b[0m\u001b[0;34m\u001b[0m\u001b[0m\n\u001b[0;32m--> 149\u001b[0;31m         allow_unreachable=True, accumulate_grad=True)  # allow_unreachable flag\n\u001b[0m\u001b[1;32m    150\u001b[0m \u001b[0;34m\u001b[0m\u001b[0m\n\u001b[1;32m    151\u001b[0m \u001b[0;34m\u001b[0m\u001b[0m\n",
            "\u001b[0;31mKeyboardInterrupt\u001b[0m: "
          ]
        }
      ]
    },
    {
      "cell_type": "code",
      "metadata": {
        "id": "OEtJC4rZ119M"
      },
      "source": [
        ""
      ],
      "execution_count": null,
      "outputs": []
    }
  ]
}